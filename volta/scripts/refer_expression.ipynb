{
 "cells": [
  {
   "cell_type": "code",
   "execution_count": 30,
   "metadata": {},
   "outputs": [],
   "source": [
    "import sys\n",
    "import os\n",
    "sys.path.insert(1, os.path.join(sys.path[0], '..'))\n",
    "\n",
    "import json\n",
    "import pdb\n",
    "import argparse\n",
    "from easydict import EasyDict as edict\n",
    "import jsonlines\n",
    "import yaml\n",
    "import random\n",
    "\n",
    "import numpy as np\n",
    "import matplotlib.pyplot as plt\n",
    "import PIL\n",
    "%matplotlib inline\n",
    "import operator\n",
    "import nltk\n",
    "\n",
    "from tools.refer.refer import REFER"
   ]
  },
  {
   "cell_type": "code",
   "execution_count": 66,
   "metadata": {},
   "outputs": [
    {
     "name": "stdout",
     "output_type": "stream",
     "text": [
      "loading dataset refcoco+ into memory...\n",
      "creating index...\n",
      "index created.\n",
      "DONE (t=7.10s)\n",
      "3805\n",
      "{'id': 580957, 'target': 20, 'IOU': 0.8782015442848206}\n",
      "{'caption': 'White bowl with vertical stripes', 'sent_id': 210, 'image_id': 580957, 'refBox': [468.3, 0.91, 171.7, 116.12], 'ref_id': 75}\n"
     ]
    }
   ],
   "source": [
    "input_file_path = '../results/refcoco+_bert_base_6layer_6conect-pretrained-/val_result.json'\n",
    "compare_file_path = '../results/refcoco+_bert_base_6layer_6conect-scratch-/val_result.json'\n",
    "dataroot = '../data/referExpression'\n",
    "\n",
    "input_file = json.load(open(input_file_path, 'r'))\n",
    "compare_file = json.load(open(compare_file_path, 'r'))\n",
    "\n",
    "refer = REFER(dataroot, dataset='refcoco+',  splitBy='unc')\n",
    "ref_ids = refer.getRefIds(split='val')\n",
    "\n",
    "print(len(ref_ids))\n",
    "entries = []\n",
    "\n",
    "for ref_id in ref_ids:\n",
    "    ref = refer.Refs[ref_id]\n",
    "    image_id = ref['image_id']\n",
    "    ref_id = ref['ref_id']\n",
    "    refBox = refer.getRefBox(ref_id)\n",
    "    for sent, sent_id in zip(ref['sentences'], ref['sent_ids']):\n",
    "        caption = sent['raw']\n",
    "        entries.append(\n",
    "            {\"caption\": caption, 'sent_id':sent_id, 'image_id':image_id, \\\n",
    "            \"refBox\": refBox, 'ref_id': ref_id}\n",
    "            )\n",
    "        \n",
    "print(input_file[0])\n",
    "print(entries[0])\n"
   ]
  },
  {
   "cell_type": "code",
   "execution_count": null,
   "metadata": {
    "scrolled": false
   },
   "outputs": [],
   "source": [
    "assert len(entries) == len(input_file)\n",
    "words_freq = {}\n",
    "words_win = {}\n",
    "words_loss = {}\n",
    "for i in range(len(entries)):\n",
    "    input_IOU = input_file[i]['IOU']\n",
    "    compare_IOU = compare_file[i]['IOU']\n",
    "    caption = entries[i]['caption'].lower()\n",
    "    tokens = nltk.word_tokenize(caption)\n",
    "    pos_tag = nltk.pos_tag(tokens)\n",
    "    for w in tokens:\n",
    "        words_freq[w] = words_freq.get(w, 0) + 1\n",
    "        \n",
    "    if input_IOU > 0.5 and compare_IOU < 0.5:\n",
    "        for i, w in enumerate(tokens):\n",
    "            if pos_tag[i][1] in ['NN', 'NNS']:\n",
    "                words_win[w] = words_win.get(w, 0) + 1\n",
    "    elif input_IOU < 0.5 and compare_IOU > 0.5:\n",
    "        for i, w in enumerate(tokens):\n",
    "            if pos_tag[i][1] in ['NN', 'NNS']:\n",
    "                words_loss[w] = words_loss.get(w, 0) + 1\n",
    "\n",
    "for w, count in words_win.items():\n",
    "    words_win[w] = count / max(float(words_freq[w]),10) #- words_loss.get(w,0)\n",
    "\n",
    "sorted_words = sorted(words_win.items(), key=operator.itemgetter(1))\n",
    "for i in range(len(words_win)):\n",
    "    print(sorted_words[-i-1][1], sorted_words[-i-1][0])\n",
    "   \n",
    "print(\"global count\")\n",
    "\n",
    "sorted_words_freq = sorted(words_freq.items(), key=operator.itemgetter(1))\n",
    "for i in range(len(words_freq)):\n",
    "    print(sorted_words_freq[-i-1][1], sorted_words_freq[-i-1][0])\n"
   ]
  },
  {
   "cell_type": "code",
   "execution_count": null,
   "metadata": {},
   "outputs": [],
   "source": []
  }
 ],
 "metadata": {
  "kernelspec": {
   "display_name": "Python 3",
   "language": "python",
   "name": "python3"
  },
  "language_info": {
   "codemirror_mode": {
    "name": "ipython",
    "version": 3
   },
   "file_extension": ".py",
   "mimetype": "text/x-python",
   "name": "python",
   "nbconvert_exporter": "python",
   "pygments_lexer": "ipython3",
   "version": "3.7.1"
  }
 },
 "nbformat": 4,
 "nbformat_minor": 2
}

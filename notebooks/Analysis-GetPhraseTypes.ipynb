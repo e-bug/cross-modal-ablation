{
 "cells": [
  {
   "cell_type": "code",
   "execution_count": 9,
   "metadata": {},
   "outputs": [],
   "source": [
    "import json\n",
    "import pickle\n",
    "import numpy as np"
   ]
  },
  {
   "cell_type": "code",
   "execution_count": null,
   "metadata": {},
   "outputs": [],
   "source": [
    "import os, sys\n",
    "sys.path.append(\"../volta\")\n",
    "from volta.datasets.flickr30ke_ablation_dataset import get_annotations, get_sentence_data"
   ]
  },
  {
   "cell_type": "code",
   "execution_count": 17,
   "metadata": {},
   "outputs": [],
   "source": [
    "with open(\"/science/image/nlp-datasets/emanuele/data/flickr30k_entities/val.txt\", \"r\") as f:\n",
    "    images = f.read().splitlines()\n",
    "\n",
    "entries = []\n",
    "for img in images:\n",
    "    annotation = get_annotations(os.path.join(\"/science/image/nlp-datasets/emanuele/data/flickr30k_entities/Annotations\", img + \".xml\"))\n",
    "    sentences = get_sentence_data(os.path.join(\"/science/image/nlp-datasets/emanuele/data/flickr30k_entities/Sentences\", img + \".txt\"))\n",
    "    for i, sent in enumerate(sentences):\n",
    "        for phrase in sent[\"phrases\"]:\n",
    "            if str(phrase[\"phrase_id\"]) in annotation[\"boxes\"].keys():\n",
    "                entries.append(\n",
    "                    {\n",
    "                        \"caption\": phrase[\"phrase\"],\n",
    "                        \"first_word_index\": phrase[\"first_word_index\"],\n",
    "                        \"sent_id\": int(phrase[\"phrase_id\"]),\n",
    "                        \"image_id\": int(img),\n",
    "                        \"refBoxes\": annotation[\"boxes\"][str(phrase[\"phrase_id\"])],\n",
    "                        \"sentence\": sent[\"sentence\"],\n",
    "                        \"type\": phrase[\"phrase_type\"],\n",
    "                    }\n",
    "                )"
   ]
  },
  {
   "cell_type": "code",
   "execution_count": 25,
   "metadata": {},
   "outputs": [
    {
     "data": {
      "text/plain": [
       "{'animals',\n",
       " 'bodyparts',\n",
       " 'clothing',\n",
       " 'instruments',\n",
       " 'other',\n",
       " 'people',\n",
       " 'scene',\n",
       " 'vehicles'}"
      ]
     },
     "execution_count": 25,
     "metadata": {},
     "output_type": "execute_result"
    }
   ],
   "source": [
    "# unique types\n",
    "types_set = {t for e in entries for t in e['type']}\n",
    "types_set"
   ]
  },
  {
   "cell_type": "code",
   "execution_count": 28,
   "metadata": {},
   "outputs": [
    {
     "data": {
      "text/plain": [
       "{'vehicles': 338,\n",
       " 'scene': 1533,\n",
       " 'instruments': 155,\n",
       " 'people': 5813,\n",
       " 'animals': 523,\n",
       " 'other': 3284,\n",
       " 'bodyparts': 541,\n",
       " 'clothing': 2335}"
      ]
     },
     "execution_count": 28,
     "metadata": {},
     "output_type": "execute_result"
    }
   ],
   "source": [
    "type2cnt = {t: 0 for t in types_set}\n",
    "for entry in entries:\n",
    "    for t in entry['type']:\n",
    "        type2cnt[t] += 1\n",
    "type2cnt"
   ]
  },
  {
   "cell_type": "code",
   "execution_count": 21,
   "metadata": {},
   "outputs": [
    {
     "data": {
      "text/plain": [
       "(89, 14433)"
      ]
     },
     "execution_count": 21,
     "metadata": {},
     "output_type": "execute_result"
    }
   ],
   "source": [
    "mul_type_entris = []\n",
    "for entry in entries:\n",
    "    if len(entry['type']) != 1:\n",
    "        mul_type_entris.append(entry)\n",
    "len(mul_type_entris), len(entries)"
   ]
  },
  {
   "cell_type": "code",
   "execution_count": 24,
   "metadata": {},
   "outputs": [],
   "source": [
    "# at most 2 types\n",
    "for e in mul_type_entris:\n",
    "    if len(e['type']) != 2:\n",
    "        print(e)\n",
    "        break"
   ]
  },
  {
   "cell_type": "code",
   "execution_count": 30,
   "metadata": {},
   "outputs": [
    {
     "name": "stdout",
     "output_type": "stream",
     "text": [
      "['bodyparts', 'people']\n",
      "['animals', 'people']\n",
      "['animals', 'people']\n",
      "['bodyparts', 'people']\n",
      "['bodyparts', 'people']\n",
      "['bodyparts', 'people']\n",
      "['bodyparts', 'people']\n",
      "['bodyparts', 'people']\n",
      "['bodyparts', 'people']\n",
      "['bodyparts', 'people']\n",
      "['bodyparts', 'people']\n",
      "['animals', 'people']\n",
      "['bodyparts', 'people']\n",
      "['bodyparts', 'people']\n",
      "['animals', 'people']\n",
      "['bodyparts', 'people']\n",
      "['bodyparts', 'people']\n",
      "['bodyparts', 'people']\n",
      "['bodyparts', 'people']\n",
      "19\n"
     ]
    }
   ],
   "source": [
    "# 70/89 have \"scene\" as 2nd type, while the others have \"people\"\n",
    "ppl_cnt = 0\n",
    "for e in mul_type_entris:\n",
    "    if 'scene' not in e['type']:\n",
    "        print(e['type'])\n",
    "        ppl_cnt += 1\n",
    "print(ppl_cnt)"
   ]
  },
  {
   "cell_type": "code",
   "execution_count": 32,
   "metadata": {},
   "outputs": [
    {
     "data": {
      "text/plain": [
       "14433"
      ]
     },
     "execution_count": 32,
     "metadata": {},
     "output_type": "execute_result"
    }
   ],
   "source": [
    "# we just select the first type (more specific) when we have 2\n",
    "ix2type = {ix: e['type'][0] for ix, e in enumerate(entries)}\n",
    "len(ix2type)"
   ]
  },
  {
   "cell_type": "code",
   "execution_count": 33,
   "metadata": {},
   "outputs": [
    {
     "data": {
      "text/plain": [
       "'people'"
      ]
     },
     "execution_count": 33,
     "metadata": {},
     "output_type": "execute_result"
    }
   ],
   "source": [
    "ix2type[0]"
   ]
  },
  {
   "cell_type": "code",
   "execution_count": 34,
   "metadata": {},
   "outputs": [],
   "source": [
    "with open(\"ix2type.pkl\", \"wb\") as f:\n",
    "    pickle.dump(ix2type, f)"
   ]
  },
  {
   "cell_type": "code",
   "execution_count": null,
   "metadata": {},
   "outputs": [],
   "source": []
  }
 ],
 "metadata": {
  "kernelspec": {
   "display_name": "xm-influence",
   "language": "python",
   "name": "xm-influence"
  },
  "language_info": {
   "codemirror_mode": {
    "name": "ipython",
    "version": 3
   },
   "file_extension": ".py",
   "mimetype": "text/x-python",
   "name": "python",
   "nbconvert_exporter": "python",
   "pygments_lexer": "ipython3",
   "version": "3.6.12"
  }
 },
 "nbformat": 4,
 "nbformat_minor": 4
}
